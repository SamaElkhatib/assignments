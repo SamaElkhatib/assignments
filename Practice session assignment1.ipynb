{
 "cells": [
  {
   "cell_type": "markdown",
   "id": "037c73ac-0d86-4d5a-ac97-b8163844f2c7",
   "metadata": {},
   "source": [
    "## Fanction "
   ]
  },
  {
   "cell_type": "markdown",
   "id": "9ddbbe12-2784-4faa-9799-8ba9e7fb71e4",
   "metadata": {},
   "source": [
    "- Write a function that takes two numbers as arguments and returns their sum."
   ]
  },
  {
   "cell_type": "code",
   "execution_count": 2,
   "id": "029a5666-3416-4670-9644-a19b5fd88d26",
   "metadata": {},
   "outputs": [
    {
     "data": {
      "text/plain": [
       "8"
      ]
     },
     "execution_count": 2,
     "metadata": {},
     "output_type": "execute_result"
    }
   ],
   "source": [
    "def sum( x ,  y):\n",
    "  z=x+y\n",
    "  return z\n",
    "\n",
    "sum(3,5) "
   ]
  },
  {
   "cell_type": "markdown",
   "id": "c6c90bb5-b251-407e-b13a-4c3a320f20ac",
   "metadata": {},
   "source": [
    "- Write a function that takes a list of numbers as an argument and returns the sum of those numbers."
   ]
  },
  {
   "cell_type": "code",
   "execution_count": 6,
   "id": "13e36074-9d7d-4c6d-9652-71c37a63b20c",
   "metadata": {},
   "outputs": [
    {
     "data": {
      "text/plain": [
       "28"
      ]
     },
     "execution_count": 6,
     "metadata": {},
     "output_type": "execute_result"
    }
   ],
   "source": [
    "numbers=[1,2,3,4,5,6,7]\n",
    "def sum_of_num(l):\n",
    "  sum=0\n",
    "  for i in l:\n",
    "    sum = sum +i\n",
    "  return sum  \n",
    "sum_of_num(numbers)"
   ]
  },
  {
   "cell_type": "markdown",
   "id": "5b13316d-6e99-40cc-8e20-c1cef178b500",
   "metadata": {},
   "source": [
    "- Write a function that takes a string as an argument and returns the length of that string."
   ]
  },
  {
   "cell_type": "code",
   "execution_count": 4,
   "id": "faf27133-fcec-4fb1-8ee5-33fe55d782ad",
   "metadata": {},
   "outputs": [
    {
     "data": {
      "text/plain": [
       "4"
      ]
     },
     "execution_count": 4,
     "metadata": {},
     "output_type": "execute_result"
    }
   ],
   "source": [
    "def len_of_string(s):\n",
    "  i=0\n",
    "  for x in s:\n",
    "    i+=1\n",
    "  return i\n",
    "\n",
    "len_of_string(\"sama\")"
   ]
  },
  {
   "cell_type": "markdown",
   "id": "4f940a21-5052-4cf3-85ed-ec3f0b757f55",
   "metadata": {},
   "source": [
    "- Write a function that takes a list of strings as an argument and returns the length of the longest string in the list."
   ]
  },
  {
   "cell_type": "code",
   "execution_count": 7,
   "id": "5ad1b6ba-f2a0-4cd2-ab9e-daf2ee67f102",
   "metadata": {},
   "outputs": [
    {
     "data": {
      "text/plain": [
       "6"
      ]
     },
     "execution_count": 7,
     "metadata": {},
     "output_type": "execute_result"
    }
   ],
   "source": [
    "def len_of_longeststr(l):\n",
    "  max = -1\n",
    "  for x in l :\n",
    "      if(len(x) > max):\n",
    "        max = len(x)\n",
    "  return max\n",
    "\n",
    "str_list=['sama','sherif']\n",
    "len_of_longeststr(str_list)\n",
    "\n"
   ]
  },
  {
   "cell_type": "markdown",
   "id": "c32bc5e5-da6a-4fc1-b634-84f58974b6a8",
   "metadata": {},
   "source": [
    "- Write a function that takes a list of numbers as an argument and returns the average of those numbers."
   ]
  },
  {
   "cell_type": "code",
   "execution_count": 8,
   "id": "e2a2b96f-1918-494a-bda5-47d1d5027249",
   "metadata": {},
   "outputs": [
    {
     "data": {
      "text/plain": [
       "3.0"
      ]
     },
     "execution_count": 8,
     "metadata": {},
     "output_type": "execute_result"
    }
   ],
   "source": [
    "num_list=[1,2,3,4,5]\n",
    "def average_of_list(l):\n",
    "  sum = 0\n",
    "  for x in l:\n",
    "    sum= sum + x\n",
    "  The_average_of_list=sum/len(l)\n",
    "  return The_average_of_list\n",
    "\n",
    "average_of_list(num_list)"
   ]
  },
  {
   "cell_type": "markdown",
   "id": "c389e500-46ee-40f6-9c57-17a0649edc63",
   "metadata": {},
   "source": [
    "- Write a function that takes a string as an argument and returns True if the string is a palindrome (reads the same forwards and backwards) and False otherwise."
   ]
  },
  {
   "cell_type": "code",
   "execution_count": 9,
   "id": "d03a375f-5718-4858-b42c-8b05b5f3f5e1",
   "metadata": {},
   "outputs": [
    {
     "data": {
      "text/plain": [
       "True"
      ]
     },
     "execution_count": 9,
     "metadata": {},
     "output_type": "execute_result"
    }
   ],
   "source": [
    "def isPalindrom(s):\n",
    "  z = s[:: -1]\n",
    "  if s==z:\n",
    "    return True\n",
    "  else:\n",
    "    return False\n",
    "\n",
    "isPalindrom('lol')"
   ]
  },
  {
   "cell_type": "markdown",
   "id": "6572eb4a-7322-4def-b606-896135c22124",
   "metadata": {},
   "source": [
    "- Write a function that takes a list of numbers as an argument and returns a new list containing only the even numbers from the original list."
   ]
  },
  {
   "cell_type": "code",
   "execution_count": 10,
   "id": "52a9054a-f8fc-4fa6-b94e-0623a0f7093e",
   "metadata": {},
   "outputs": [
    {
     "data": {
      "text/plain": [
       "[2, 4, 6, 8, 10]"
      ]
     },
     "execution_count": 10,
     "metadata": {},
     "output_type": "execute_result"
    }
   ],
   "source": [
    "list_of_num=[1,2,3,4,5,6,7,8,9,10]\n",
    "def isEven(l):\n",
    "  res_list=[]\n",
    "  for i in l:\n",
    "    if i%2==0:\n",
    "      res_list.append(i)\n",
    "  return res_list\n",
    "\n",
    "isEven(list_of_num)"
   ]
  },
  {
   "cell_type": "markdown",
   "id": "1ba77608-13ac-4dd4-9aa3-322cc099e485",
   "metadata": {},
   "source": [
    "- Write a function that takes a list of numbers as an argument and returns a new list containing the squares of those numbers."
   ]
  },
  {
   "cell_type": "code",
   "execution_count": 11,
   "id": "1e2e22ef-86bd-4f40-af4a-8f2951e2ccbf",
   "metadata": {},
   "outputs": [
    {
     "data": {
      "text/plain": [
       "[4, 9, 16, 25, 36]"
      ]
     },
     "execution_count": 11,
     "metadata": {},
     "output_type": "execute_result"
    }
   ],
   "source": [
    "list_of_num=[2,3,4,5,6]\n",
    "def squares(l):\n",
    "  squares_of_num=[]\n",
    "  for i in l:\n",
    "    res=i**2\n",
    "    squares_of_num.append(res)\n",
    "  return squares_of_num \n",
    "\n",
    "squares(list_of_num)"
   ]
  }
 ],
 "metadata": {
  "kernelspec": {
   "display_name": "Python 3 (ipykernel)",
   "language": "python",
   "name": "python3"
  },
  "language_info": {
   "codemirror_mode": {
    "name": "ipython",
    "version": 3
   },
   "file_extension": ".py",
   "mimetype": "text/x-python",
   "name": "python",
   "nbconvert_exporter": "python",
   "pygments_lexer": "ipython3",
   "version": "3.10.9"
  }
 },
 "nbformat": 4,
 "nbformat_minor": 5
}
